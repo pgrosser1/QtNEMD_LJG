{
 "cells": [
  {
   "cell_type": "code",
   "execution_count": 1,
   "id": "bb9fc062",
   "metadata": {},
   "outputs": [],
   "source": [
    "import numpy as np\n",
    "import FortranDriver\n",
    "md = FortranDriver.MDInterface()"
   ]
  },
  {
   "cell_type": "code",
   "execution_count": 24,
   "id": "760bb2cf",
   "metadata": {},
   "outputs": [
    {
     "name": "stdout",
     "output_type": "stream",
     "text": [
      "0 (array(0., dtype=float32), array(0., dtype=float32), array(0., dtype=float32))\n",
      "1 (array(0., dtype=float32), array(0., dtype=float32), array(0., dtype=float32))\n",
      "2 (array(0., dtype=float32), array(0., dtype=float32), array(0., dtype=float32))\n",
      "3 (array(0., dtype=float32), array(0., dtype=float32), array(0., dtype=float32))\n",
      "4 (array(0., dtype=float32), array(0., dtype=float32), array(0., dtype=float32))\n",
      "5 (array(0., dtype=float32), array(0., dtype=float32), array(0., dtype=float32))\n",
      "6 (array(0., dtype=float32), array(0., dtype=float32), array(0., dtype=float32))\n",
      "7 (array(0., dtype=float32), array(0., dtype=float32), array(0., dtype=float32))\n",
      "8 (array(0., dtype=float32), array(0., dtype=float32), array(0., dtype=float32))\n",
      "9 (array(0., dtype=float32), array(0., dtype=float32), array(0., dtype=float32))\n"
     ]
    }
   ],
   "source": [
    "msdx_list = []\n",
    "msdy_list = []\n",
    "msdz_list = []\n",
    "\n",
    "x = range(10)\n",
    "for n in x:\n",
    "    md.run(10)\n",
    "    msdx, msdy, msdz = md.compute_msd()\n",
    "    msdx_list.append(msdx)\n",
    "    msdy_list.append(msdy)\n",
    "    msdz_list.append(msdz)\n",
    "    print(n, msdx)\n",
    "\n",
    "#Need to add something to create a meaningful x axis (for counting the timesteps)"
   ]
  },
  {
   "cell_type": "code",
   "execution_count": null,
   "id": "5599d869",
   "metadata": {},
   "outputs": [],
   "source": []
  }
 ],
 "metadata": {
  "kernelspec": {
   "display_name": "Python 3 (ipykernel)",
   "language": "python",
   "name": "python3"
  },
  "language_info": {
   "codemirror_mode": {
    "name": "ipython",
    "version": 3
   },
   "file_extension": ".py",
   "mimetype": "text/x-python",
   "name": "python",
   "nbconvert_exporter": "python",
   "pygments_lexer": "ipython3",
   "version": "3.9.7"
  }
 },
 "nbformat": 4,
 "nbformat_minor": 5
}
